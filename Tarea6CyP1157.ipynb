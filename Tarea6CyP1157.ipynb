{
  "nbformat": 4,
  "nbformat_minor": 0,
  "metadata": {
    "colab": {
      "name": "Tarea6CyP1157.ipynb",
      "provenance": [],
      "collapsed_sections": [],
      "authorship_tag": "ABX9TyOK37tsxVwu07povW8OcRKA",
      "include_colab_link": true
    },
    "kernelspec": {
      "name": "python3",
      "display_name": "Python 3"
    },
    "language_info": {
      "name": "python"
    }
  },
  "cells": [
    {
      "cell_type": "markdown",
      "metadata": {
        "id": "view-in-github",
        "colab_type": "text"
      },
      "source": [
        "<a href=\"https://colab.research.google.com/github/MAAR341/CyP1157/blob/main/Tarea6CyP1157.ipynb\" target=\"_parent\"><img src=\"https://colab.research.google.com/assets/colab-badge.svg\" alt=\"Open In Colab\"/></a>"
      ]
    },
    {
      "cell_type": "code",
      "metadata": {
        "colab": {
          "base_uri": "https://localhost:8080/"
        },
        "id": "oUwQKGz-rKVt",
        "outputId": "634fc4f5-077c-4a33-8540-1ee42f02ca8f"
      },
      "source": [
        "# Problema 2.1\n",
        "N=int(input(\"Introduce el número de sonidos que fueron emitidos en un minuto:\"))\n",
        "T=0.0\n",
        "if N>0:\n",
        "    T=N/4+40\n",
        "    print(\"La temperatura es:\", T)\n",
        "else:\n",
        "    print(\"No puede ser un valor negativo, intenta otra vez\")\n",
        "print(\"Fin del programa\")"
      ],
      "execution_count": null,
      "outputs": [
        {
          "output_type": "stream",
          "name": "stdout",
          "text": [
            "Introduce el número de sonidos que fueron emitidos en un minuto:50\n",
            "La temperatura es: 52.5\n",
            "Fin del programa\n"
          ]
        }
      ]
    },
    {
      "cell_type": "code",
      "metadata": {
        "colab": {
          "base_uri": "https://localhost:8080/"
        },
        "id": "hMo2WbSftk6h",
        "outputId": "d281354a-7712-4308-fee4-c439f4a2fdfd"
      },
      "source": [
        "# Problema 2.2\n",
        "P=int(input(\"Introduce un número entero:\"))\n",
        "Q=int(input(\"Introduce otro número:\"))\n",
        "EXP=P**3+Q**4-P**2\n",
        "if EXP<680:\n",
        "    print(f\"Las variables {P} y {Q} son correctas\")\n",
        "else:\n",
        "    print(\"Las variables no satisfacen la ecuación, prueba nuevamente con otros valores\")\n",
        "print(\"Fin del programa\")\n",
        "\n"
      ],
      "execution_count": null,
      "outputs": [
        {
          "output_type": "stream",
          "name": "stdout",
          "text": [
            "Introduce un número entero:2\n",
            "Introduce otro número:4\n",
            "Las variables 2 y 4 son correctas\n",
            "Fin del programa\n"
          ]
        }
      ]
    },
    {
      "cell_type": "code",
      "metadata": {
        "colab": {
          "base_uri": "https://localhost:8080/"
        },
        "id": "1vkZ8WrGwLQe",
        "outputId": "9b417a6a-0a83-40f9-e947-49bb8b32d216"
      },
      "source": [
        "# Problema 2.3\n",
        "A=float(input(\"Introduce un número:\"))\n",
        "B=float(input(\"Introduce otro número:\"))\n",
        "C=float(input(\"Introduce otro número:\"))\n",
        "DIS=B**2-4*A*C\n",
        "X1=0\n",
        "X2=0\n",
        "if A!=0:\n",
        "    if DIS>=0:\n",
        "        X1=((-B)+DIS**0.5)/(2*A)\n",
        "        X2=((-B)-DIS**0.5)/(2*A)\n",
        "        print(\"Las raíces reales son:\", \"{:.2f}\".format(X1), \"y\", \"{:.2f}\".format(X2))\n",
        "    else:\n",
        "        print(\"Los valores no satisfacen la ecuación, prueba de nuevo\")\n",
        "else:\n",
        "    print(\"A debe ser diferente de 0, prueba otra vez\")\n",
        "print(\"Fin del programa\")\n"
      ],
      "execution_count": null,
      "outputs": [
        {
          "output_type": "stream",
          "name": "stdout",
          "text": [
            "Introduce un número:-7.5\n",
            "Introduce otro número:3\n",
            "Introduce otro número:1\n",
            "Las raíces reales son: -0.22 y 0.62\n",
            "Fin del programa\n"
          ]
        }
      ]
    },
    {
      "cell_type": "code",
      "metadata": {
        "colab": {
          "base_uri": "https://localhost:8080/"
        },
        "id": "hVvfhMly1go1",
        "outputId": "9a4003a2-7d50-4e2f-f20d-84661396d6ad"
      },
      "source": [
        "# Problema 2.4\n",
        "MAT=int(input(\"Introduce tu número de matricula:\"))\n",
        "CAL1=float(input(\"Introduce tu primer calificación:\"))\n",
        "CAL2=float(input(\"Introduce tu segunda calificación:\"))\n",
        "CAL3=float(input(\"Introduce tu tercer calificación:\"))\n",
        "CAL4=float(input(\"Introduce tu cuarta calificación:\"))\n",
        "CAL5=float(input(\"Introduce tu quinta calificación:\"))\n",
        "PRO=(CAL1+CAL2+CAL3+CAL4+CAL5)/5\n",
        "if PRO>=6:\n",
        "    print(f\"Matricula:{MAT} Promedio:{PRO} Resultado final: APROBADO\")\n",
        "else:\n",
        "    print(f\"Matricula:{MAT} Promedio:{PRO} Resultado final: NO APROBADO\")\n",
        "print(\"Fin del programa\")"
      ],
      "execution_count": null,
      "outputs": [
        {
          "output_type": "stream",
          "name": "stdout",
          "text": [
            "Introduce tu número de matricula:18250\n",
            "Introduce tu primer calificación:9\n",
            "Introduce tu segunda calificación:9.25\n",
            "Introduce tu tercer calificación:8.10\n",
            "Introduce tu cuarta calificación:9.80\n",
            "Introduce tu quinta calificación:10\n",
            "Matricula:18250 Promedio:9.23 Resultado final: APROBADO\n",
            "Fin del programa\n"
          ]
        }
      ]
    },
    {
      "cell_type": "code",
      "metadata": {
        "colab": {
          "base_uri": "https://localhost:8080/"
        },
        "id": "kP6Egmr0UTPF",
        "outputId": "8b97d03e-6233-451f-c6a3-36a26d6a1915"
      },
      "source": [
        "# Problema 2.5\n",
        "NUM=int(input(\"Introduce un número:\"))\n",
        "if NUM>0:\n",
        "    print(f\"El número {NUM} es POSITIVO\")\n",
        "else:\n",
        "    if NUM==0:\n",
        "        print(f\"El número {NUM} es NULO\")\n",
        "    else:\n",
        "        print(f\"El número {NUM} es NEGATIVO\")\n",
        "print(\"Fin del programa\")"
      ],
      "execution_count": null,
      "outputs": [
        {
          "output_type": "stream",
          "name": "stdout",
          "text": [
            "Introduce un número:-15\n",
            "El número -15 es NEGATIVO\n",
            "Fin del programa\n"
          ]
        }
      ]
    },
    {
      "cell_type": "code",
      "metadata": {
        "colab": {
          "base_uri": "https://localhost:8080/"
        },
        "id": "PjBFAuR9VZ_5",
        "outputId": "eff72cf0-6436-4540-9a69-51cff48e02a2"
      },
      "source": [
        "# Problema 2.6\n",
        "A=int(input(\"Introduce un número:\"))\n",
        "if A==0:\n",
        "    print(f\"El número {A} es NULO\")\n",
        "else:\n",
        "    if (-1)**A>0:\n",
        "        print(f\"El número {A} es PAR\")\n",
        "    else:\n",
        "        print(f\"El número {A} es IMPAR\")\n",
        "print(\"Fin del programa\")"
      ],
      "execution_count": null,
      "outputs": [
        {
          "output_type": "stream",
          "name": "stdout",
          "text": [
            "Introduce un número:2\n",
            "El número 2 es PAR\n",
            "Fin del programa\n"
          ]
        }
      ]
    },
    {
      "cell_type": "code",
      "metadata": {
        "colab": {
          "base_uri": "https://localhost:8080/"
        },
        "id": "F8srpzvtb206",
        "outputId": "00d162af-d8e1-47ac-f3f8-47559edeb6b7"
      },
      "source": [
        "# Problema 2.7\n",
        "print(\"Escribe tres números que sean diferentes entre sí\")\n",
        "A=int(input(\"Primer número:\"))\n",
        "B=int(input(\"Segundo número:\"))\n",
        "if A!=B:\n",
        "    C=int(input(\"Tercer número:\"))\n",
        "    if C!=A and C!=B:\n",
        "        if A<B:\n",
        "            if B<C:\n",
        "                print(\"Los números estan en orden creciente\")\n",
        "            else:\n",
        "                print(\"Los números no estan en orden creciente\")\n",
        "        else:\n",
        "            print(\"Los números no estan en orden creciente\")\n",
        "    else:\n",
        "        print(\"Los números deben ser diferentes, prueba otra vez\")\n",
        "else:\n",
        "    print(\"Los números deben ser diferentes, prueba otra vez\")\n",
        "print(\"Fin del programa\")"
      ],
      "execution_count": null,
      "outputs": [
        {
          "output_type": "stream",
          "name": "stdout",
          "text": [
            "Escribe tres números que sean diferentes entre sí\n",
            "Primer número:3\n",
            "Segundo número:2\n",
            "Tercer número:1\n",
            "Los números no estan en orden creciente\n",
            "Fin del programa\n"
          ]
        }
      ]
    },
    {
      "cell_type": "code",
      "metadata": {
        "colab": {
          "base_uri": "https://localhost:8080/"
        },
        "id": "riD7WHSmfCqU",
        "outputId": "010c76e5-448a-44d5-d7ec-f9d64f1b50db"
      },
      "source": [
        "# Problema 2.8\n",
        "COMPRA=float(input(\"Ingresa la cantidad que compraste:\"))\n",
        "PAGAR=0\n",
        "if COMPRA>0:\n",
        "    if COMPRA<500:\n",
        "        PAGAR=COMPRA\n",
        "    elif COMPRA<=1000:\n",
        "        PAGAR=COMPRA-(COMPRA*0.05)\n",
        "    elif COMPRA<=7000:\n",
        "        PAGAR=COMPRA-(COMPRA*0.11)\n",
        "    elif COMPRA<=15000:\n",
        "        PAGAR=COMPRA-(COMPRA*0.18)\n",
        "    else:\n",
        "        PAGAR=COMPRA-(COMPRA*0.25)\n",
        "    print(\"El total a pagar es:$\", \"{:.2f}\".format(PAGAR))\n",
        "else:\n",
        "    print(\"No se puede pagar un valor negativo\")\n",
        "print(\"Fin del programa\")\n"
      ],
      "execution_count": null,
      "outputs": [
        {
          "output_type": "stream",
          "name": "stdout",
          "text": [
            "Ingresa la cantidad que compraste:1318.5\n",
            "El total a pagar es:$ 1173.46\n",
            "Fin del programa\n"
          ]
        }
      ]
    },
    {
      "cell_type": "code",
      "metadata": {
        "colab": {
          "base_uri": "https://localhost:8080/"
        },
        "id": "TQWFUm0EpXoT",
        "outputId": "abe9a6b4-c428-472f-ae16-c36ba348e8c7"
      },
      "source": [
        "# Programa 2.9\n",
        "PREBAS=float(input(\"Introduce el costo total de lo que comprarás:\"))\n",
        "IMP=0\n",
        "PRETOT=0\n",
        "if PREBAS>0:\n",
        "    if PREBAS>500:\n",
        "        IMP=(20*0.30+(PREBAS-40)*0.50)\n",
        "    elif PREBAS>40:\n",
        "        IMP=(20*0.30+(PREBAS-40)*0.40)\n",
        "    elif PREBAS>20:\n",
        "        IMP=(20*0.30+(PREBAS-40)*0.30)\n",
        "    else:\n",
        "        IMP=0\n",
        "    PRETOT=PREBAS+IMP\n",
        "    print(f\"El precio básico es de:${PREBAS} mas impuestos da un total de:$\", \"{:.2f}\".format(PRETOT))\n",
        "else:\n",
        "    print(\"No puede pagar un valor negativo, pruebe otra vez\")\n",
        "print(\"Fin del programa\")"
      ],
      "execution_count": null,
      "outputs": [
        {
          "output_type": "stream",
          "name": "stdout",
          "text": [
            "Introduce el costo total de lo que comprarás:217.80\n",
            "El precio básico es de:$217.8 mas impuestos da un total de:$ 294.92\n",
            "Fin del programa\n"
          ]
        }
      ]
    },
    {
      "cell_type": "code",
      "metadata": {
        "colab": {
          "base_uri": "https://localhost:8080/"
        },
        "id": "nzJi4dQ3wBIV",
        "outputId": "ffee2947-ccff-4570-bac9-ba4642b6069a"
      },
      "source": [
        "# Problema 2.10\n",
        "print(\"Escribe 3 números enteros\") \n",
        "A=int(input(\"Primer número:\"))\n",
        "B=int(input(\"Segundo número:\"))\n",
        "C=int(input(\"Tercer número:\"))\n",
        "if A>B:\n",
        "    if A>C:\n",
        "        print(f\"El primer número ({A}) es el mayor\")\n",
        "    else:\n",
        "        if A==C:\n",
        "            print(f\"El primer ({A}) y tercer número ({C}) son los mayores\")\n",
        "        else:\n",
        "            print(f\"El tercer número ({C}) es el mayor\") \n",
        "else:\n",
        "    if A==B:\n",
        "        if A>C:\n",
        "            print(f\"El primer ({A}) y segundo número ({B}) son los mayores\")\n",
        "        else:\n",
        "            if A==C:\n",
        "                print(f\"El primer ({A}), segundo número ({B}) y tercer número ({C}) son iguales\")\n",
        "            else:\n",
        "                print(f\"El tercer número ({C}) es el mayor\")\n",
        "    else:\n",
        "        if B>C:\n",
        "            print(f\"El segundo número ({B}) es el mayor\")\n",
        "        else:\n",
        "            if B==C:\n",
        "                print(f\"El segundo ({B}) y tercer número ({C}) son los mayores\")\n",
        "            else:\n",
        "                print(f\"El tercer número ({C}) es el mayor\")\n",
        "print(\"Fin del programa\")"
      ],
      "execution_count": null,
      "outputs": [
        {
          "output_type": "stream",
          "name": "stdout",
          "text": [
            "Escribe 3 números enteros\n",
            "Primer número:17\n",
            "Segundo número:17\n",
            "Tercer número:17\n",
            "El primer (17), segundo número (17) y tercer número (17) son iguales\n",
            "Fin del programa\n"
          ]
        }
      ]
    },
    {
      "cell_type": "code",
      "metadata": {
        "colab": {
          "base_uri": "https://localhost:8080/"
        },
        "id": "Bw_pIRxa0p2-",
        "outputId": "d0e5cf3c-89c4-427c-d76f-edbce58c6a5e"
      },
      "source": [
        "# Problema 2.11\n",
        "CLAVE=int(input(\"Escribe la clave de la zona a la que quieres llamar:\"))\n",
        "NUMIN=float(input(\"Introduce el tiempo que durará la llamada en minutos:\"))\n",
        "COST=0\n",
        "if CLAVE==12:\n",
        "    COST=NUMIN*2\n",
        "elif CLAVE==15:\n",
        "    COST=NUMIN*2.2\n",
        "elif CLAVE==18:\n",
        "    COST=NUMIN*4.5\n",
        "elif CLAVE==19:\n",
        "    COST=NUMIN*3.5\n",
        "elif CLAVE==23 or CLAVE==25:\n",
        "    COST=NUMIN*6\n",
        "elif CLAVE==29:\n",
        "    COST=NUMIN*5\n",
        "else:\n",
        "    print(\"Esa clave no es valida, intenta otra vez\")\n",
        "print(\"El costo total de la llamada es:$\", \"{:.2f}\".format(COST))\n",
        "print(\"Fin del programa\")"
      ],
      "execution_count": null,
      "outputs": [
        {
          "output_type": "stream",
          "name": "stdout",
          "text": [
            "Escribe la clave de la zona a la que quieres llamar:18\n",
            "Introduce el tiempo que durará la llamada en minutos:12\n",
            "El costo total de la llamada es:$ 54.00\n",
            "Fin del programa\n"
          ]
        }
      ]
    },
    {
      "cell_type": "code",
      "metadata": {
        "colab": {
          "base_uri": "https://localhost:8080/"
        },
        "id": "FFgI_t3X36Os",
        "outputId": "8d73f0c8-403a-4b04-90f6-16f05f8cd1dd"
      },
      "source": [
        "# Problema 2.12\n",
        "SUE=float(input(\"Introduce el sueldo que ganas normalmente:\"))\n",
        "if SUE>0:\n",
        "    CATE=int(input(\"Introduce la categoria a la que perteneces:\"))\n",
        "    HE=float(input(\"Introduce el numero de horas extras que trabajaste:\"))\n",
        "    PHE=0\n",
        "    NSUE=0\n",
        "    if CATE==1:\n",
        "        PHE=30\n",
        "    elif CATE==2:\n",
        "        PHE=38\n",
        "    elif CATE==3:\n",
        "        PHE=50\n",
        "    elif CATE==4:\n",
        "        PHE=70\n",
        "    else:\n",
        "        PHE=0\n",
        "    if HE>30:\n",
        "        NSUE=SUE+30*PHE\n",
        "    else:\n",
        "        NSUE=SUE+HE*PHE\n",
        "    print(\"Tu sueldo más horas extras es de:$\", \"{:.2f}\".format(NSUE))\n",
        "else:\n",
        "    print(\"No es posible cobrar cantidades de 0 o negativas, verificalo\")\n",
        "print(\"Fin del programa\")"
      ],
      "execution_count": null,
      "outputs": [
        {
          "output_type": "stream",
          "name": "stdout",
          "text": [
            "Introduce el sueldo que ganas normalmente:3200\n",
            "Introduce la categoria a la que perteneces:3\n",
            "Introduce el numero de horas extras que trabajaste:8\n",
            "Tu sueldo más horas extras es de:$ 3600.00\n",
            "Fin del programa\n"
          ]
        }
      ]
    },
    {
      "cell_type": "code",
      "metadata": {
        "colab": {
          "base_uri": "https://localhost:8080/"
        },
        "id": "c3GMHv2s73w5",
        "outputId": "046dad94-4933-4ac3-ed19-642bd1d4ac6d"
      },
      "source": [
        "# Problema 2.13\n",
        "MAT=int(input(\"Escribe tu número de matricula:\"))\n",
        "CARR=str(input(\"Escribe el nombre de la carrera a la que estas inscrito:\"))\n",
        "SEM=int(input(\"Escribe el semestre en el que estas:\"))\n",
        "PROM=float(input(\"Escribe el promedio que tienes actualmente:\"))\n",
        "if CARR==\"Economía\":\n",
        "    if SEM>=6 and PROM>=8.8:\n",
        "        print(MAT,CARR, \"estas aceptado\")\n",
        "elif CARR==\"Computación\":\n",
        "    if SEM>6 and PROM>8.5:\n",
        "        print(MAT,CARR, \"estas aceptado\")\n",
        "elif CARR==\"Contabilidad\" or CARR==\"Administración\":\n",
        "    if SEM>5 and PROM>8.5:\n",
        "        print(MAT,CARR, \"estas aceptado\")\n",
        "else:\n",
        "    print(\"Esa opción de carrera no es valida, intenta otra vez.\\nRevisa los acentos y que la primer letra sea una mayuscula.\")\n",
        "print(\"Fin del programa\")"
      ],
      "execution_count": null,
      "outputs": [
        {
          "output_type": "stream",
          "name": "stdout",
          "text": [
            "Escribe tu número de matricula:26100\n",
            "Escribe el nombre de la carrera a la que estas inscrito:Computación\n",
            "Escribe el semestre en el que estas:6\n",
            "Escribe el promedio que tienes actualmente:9.2\n",
            "Fin del programa\n"
          ]
        }
      ]
    }
  ]
}