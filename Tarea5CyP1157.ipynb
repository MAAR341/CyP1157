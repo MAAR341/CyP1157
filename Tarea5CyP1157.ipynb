{
  "nbformat": 4,
  "nbformat_minor": 0,
  "metadata": {
    "colab": {
      "name": "Tarea5CyP1157.ipynb",
      "provenance": [],
      "authorship_tag": "ABX9TyP/jHTqbiQJ2pLf2diyOjwm",
      "include_colab_link": true
    },
    "kernelspec": {
      "name": "python3",
      "display_name": "Python 3"
    },
    "language_info": {
      "name": "python"
    }
  },
  "cells": [
    {
      "cell_type": "markdown",
      "metadata": {
        "id": "view-in-github",
        "colab_type": "text"
      },
      "source": [
        "<a href=\"https://colab.research.google.com/github/MAAR341/CyP1157/blob/main/Tarea5CyP1157.ipynb\" target=\"_parent\"><img src=\"https://colab.research.google.com/assets/colab-badge.svg\" alt=\"Open In Colab\"/></a>"
      ]
    },
    {
      "cell_type": "markdown",
      "metadata": {
        "id": "AztTaNJLNgJE"
      },
      "source": [
        "1. Hacer un programa que\n",
        "pida dos números enteros y que imprima en pantalla lo siguiente:\n",
        "\n",
        "\n",
        "- ¿Cuál de ellos es el número mayor?\n",
        "- ¿Cuál de ellos es el número menor?\n",
        "- o en su defecto ¿Imprimir que los valores son iguales?"
      ]
    },
    {
      "cell_type": "code",
      "metadata": {
        "colab": {
          "base_uri": "https://localhost:8080/"
        },
        "id": "o6sbhuR5NN8j",
        "outputId": "26bac2aa-5c9f-4676-adab-2d3f248129c3"
      },
      "source": [
        "num1=int(input(\"Dame un número:\"))\n",
        "num2=int(input(\"Dame otro número:\"))\n",
        "if num1>num2:\n",
        "    print(f\"El número mayor es {num1}\")\n",
        "    print(f\"El número menor es {num2}\")\n",
        "elif num1<num2:\n",
        "    print(f\"El número mayor es {num2}\")\n",
        "    print(f\"El número menor es {num1}\")\n",
        "elif num1==num2:\n",
        "    print(\"Ambos numeros son iguales\")\n",
        "print(\"Fin del programa\")"
      ],
      "execution_count": 11,
      "outputs": [
        {
          "output_type": "stream",
          "name": "stdout",
          "text": [
            "Dame un número:5\n",
            "Dame otro número:5\n",
            "Ambos numeros son iguales\n",
            "Fin del programa\n"
          ]
        }
      ]
    },
    {
      "cell_type": "markdown",
      "metadata": {
        "id": "dcJ-1tRqQO6w"
      },
      "source": [
        "2. Hacer un programa que solicite 3 números enteros diferentes entre sí y que imprima cuál de los 3 es el mayor."
      ]
    },
    {
      "cell_type": "code",
      "metadata": {
        "colab": {
          "base_uri": "https://localhost:8080/"
        },
        "id": "qeVgewkJQURw",
        "outputId": "dd664721-cb6a-4e5c-dba6-cdc7434c140f"
      },
      "source": [
        "num1=int(input(\"Dame un número:\"))\n",
        "num2=int(input(\"Dame otro número:\"))\n",
        "num3=int(input(\"Dame un tercer número\"))\n",
        "if num1>num2 and num1>num3:\n",
        "    print(f\"El mayor de los 3 es {num1}\")\n",
        "elif num2>num1 and num2>num3:\n",
        "    print(f\"El mayor de los 3 es {num2}\")\n",
        "elif num3>num1 and num3>num2:\n",
        "    print(f\"El mayor de los 3 es {num3}\")\n",
        "else:\n",
        "    print(\"Los numeros no son diferentes, intenta otra vez\")\n",
        "print(\"Fin del programa\")"
      ],
      "execution_count": 23,
      "outputs": [
        {
          "output_type": "stream",
          "name": "stdout",
          "text": [
            "Dame un número:1\n",
            "Dame otro número:1\n",
            "Dame un tercer número1\n",
            "Los numeros no son diferentes, intenta otra vez\n"
          ]
        }
      ]
    },
    {
      "cell_type": "markdown",
      "metadata": {
        "id": "lhFnXoJlSGnt"
      },
      "source": [
        "3. Hacer un programa que solicite 3 números enteros diferentes entre sí y que imprima cuál de los 3 es el menor."
      ]
    },
    {
      "cell_type": "code",
      "metadata": {
        "colab": {
          "base_uri": "https://localhost:8080/"
        },
        "id": "PRVwDgkdSFoN",
        "outputId": "5f193cd8-630f-4c14-fe5e-467d482c42b3"
      },
      "source": [
        "num1=int(input(\"Dame un número:\"))\n",
        "num2=int(input(\"Dame otro número:\"))\n",
        "num3=int(input(\"Dame un tercer número\"))\n",
        "if num1<num2 and num1<num3:\n",
        "    print(f\"El menor de los 3 es {num1}\")\n",
        "elif num2<num1 and num2<num3:\n",
        "    print(f\"El menor de los 3 es {num2}\")\n",
        "elif num3<num1 and num3<num2:\n",
        "    print(f\"El menor de los 3 es {num3}\")\n",
        "else:\n",
        "    print(\"Los numeros no son diferentes, intenta otra vez\")\n",
        "print(\"Fin del programa\")"
      ],
      "execution_count": 26,
      "outputs": [
        {
          "output_type": "stream",
          "name": "stdout",
          "text": [
            "Dame un número:2\n",
            "Dame otro número:4\n",
            "Dame un tercer número6\n",
            "El menor de los 3 es 2\n",
            "Fin del programa\n"
          ]
        }
      ]
    },
    {
      "cell_type": "markdown",
      "metadata": {
        "id": "dQKylML8Sg19"
      },
      "source": [
        "4. Hacer un programa que solicite 4 números enteros diferentes entre sí y que imprima a la salida cuál de ellos es el menor y cuál de ellos es el mayor."
      ]
    },
    {
      "cell_type": "code",
      "metadata": {
        "colab": {
          "base_uri": "https://localhost:8080/"
        },
        "id": "clGj0xlyMon0",
        "outputId": "e2dd2c2f-9188-425e-86a0-afc696147d8c"
      },
      "source": [
        "print(\"Escribe cuatro numeros enteros que sean diferentes\")\n",
        "num1=int(input(\"Primer número:\"))\n",
        "num2=int(input(\"Segundo número:\"))\n",
        "if num1!=num2:\n",
        "    num3=int(input(\"Tercer número:\"))\n",
        "    if num3!=num1 and num3!=num2:\n",
        "        num4=int(input(\"Cuarto número:\"))\n",
        "        if num4!=num1 and num4!=num2 and num4!=num3:\n",
        "             MAYOR=0\n",
        "             MENOR=0\n",
        "             if num1>num2 and num1>num3 and num1>num4:\n",
        "                MAYOR=num1\n",
        "             elif num2>num1 and num2>num3 and num2>num4:\n",
        "                MAYOR=num2\n",
        "             elif num3>num1 and num3>num2 and num2>num4:\n",
        "                MAYOR=num3\n",
        "             elif num4>num1 and num4>num2 and num4>num3:\n",
        "                MAYOR=num4\n",
        "             if num1<num2 and num1<num3 and num1<num4:\n",
        "                MENOR=num1\n",
        "             elif num2<num1 and num2<num3 and num2<num4:\n",
        "                MENOR=num2\n",
        "             elif num3<num1 and num3<num2 and num2<num4:\n",
        "                MENOR=num3\n",
        "             elif num4<num1 and num4<num2 and num4<num3:\n",
        "                MENOR=num4\n",
        "             if MAYOR!=0 and MENOR!=0:\n",
        "                  print(f\"El número {MAYOR} es el mayor de los 4\")\n",
        "                  print(f\"El número {MENOR} es el menor de los 4\")\n",
        "        else:\n",
        "            print(\"Los numeros no son diferentes, intenta otra vez\")\n",
        "    else:\n",
        "        print(\"Los numeros no son diferentes, intenta otra vez\")\n",
        "else:\n",
        "    print(\"Los numeros no son diferentes, intenta otra vez\")\n",
        "print(\"Fin del programa\")"
      ],
      "execution_count": 136,
      "outputs": [
        {
          "output_type": "stream",
          "name": "stdout",
          "text": [
            "Escribe cuatro numeros enteros que sean diferentes\n",
            "Primer número:1\n",
            "Segundo número:2\n",
            "Tercer número:3\n",
            "Cuarto número:4\n",
            "El número 4 es el mayor de los 4\n",
            "El número 1 es el menor de los 4\n",
            "Fin del programa\n"
          ]
        }
      ]
    }
  ]
}