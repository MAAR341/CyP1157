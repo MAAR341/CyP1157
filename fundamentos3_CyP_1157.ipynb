{
  "nbformat": 4,
  "nbformat_minor": 0,
  "metadata": {
    "colab": {
      "name": "fundamentos3_CyP_1157.ipynb",
      "provenance": [],
      "authorship_tag": "ABX9TyPfPlm2kPkj4aCWvCe99aAK",
      "include_colab_link": true
    },
    "kernelspec": {
      "name": "python3",
      "display_name": "Python 3"
    },
    "language_info": {
      "name": "python"
    }
  },
  "cells": [
    {
      "cell_type": "markdown",
      "metadata": {
        "id": "view-in-github",
        "colab_type": "text"
      },
      "source": [
        "<a href=\"https://colab.research.google.com/github/MAAR341/CyP1157/blob/main/fundamentos3_CyP_1157.ipynb\" target=\"_parent\"><img src=\"https://colab.research.google.com/assets/colab-badge.svg\" alt=\"Open In Colab\"/></a>"
      ]
    },
    {
      "cell_type": "markdown",
      "metadata": {
        "id": "-Uif5G4kNJ50"
      },
      "source": [
        "#23/11/2021"
      ]
    },
    {
      "cell_type": "markdown",
      "metadata": {
        "id": "YktNSLVkFwNg"
      },
      "source": [
        "Repetición:\n",
        "\n",
        "Este tipo de estructura nos permite automatizar la ejecución repetitiva de codigo mientras ciertas condiciones se cumplan, tenemos 3 variantes de esta estructura en todos los lenguajes de programación:\n",
        "- Desde... hasta (estructura for)\n",
        "- haz mientras (estructura while)\n",
        "- haz y luego validaz mientras (estructura Do-while)\n",
        "\n",
        "#FOR con python\n",
        "```\n",
        "for j in range(10):\n",
        "    print(f\"Hola {j}\")\n",
        "```\n",
        "\n",
        "#FOR con Java y/o C\n",
        "```\n",
        "for(int j=0; j<10; j=j+1){\n",
        "    printf(\"Hola %i \\n\", j):\n",
        "```\n",
        "En todos los lenguajes de programación existe un tipo especial de for, conocido como **for-each**\n",
        "\n",
        "#For-each en python\n",
        "```\n",
        "for color in colores:\n",
        "    print(f\"Este es el color {color}\")\n",
        "```"
      ]
    },
    {
      "cell_type": "code",
      "metadata": {
        "colab": {
          "base_uri": "https://localhost:8080/"
        },
        "id": "CvbJOHXGHgww",
        "outputId": "b79e1f97-2a6d-4939-d61f-c89e7bb58c77"
      },
      "source": [
        "# función range()\n",
        "# range(<INICIO>,<STOP>,<INCREMENTO>) \"stop es obligatorio\"\n",
        "x=range(0,10,2)\n",
        "print(x)\n",
        "\n",
        "for j in range(10): #range(0,10)-->0,1,2,3,4,5,6,7,8,9\n",
        "    print(f\"Hola{j}\")\n",
        "print(\"-.-.-.\")\n",
        "for j in range(0,10,2): #range(0,10)-->0,2,4,6,8\n",
        "    print(f\"Hola{j}\")\n",
        "print(\"-.-.-.\")\n",
        "frutas=[\"Uva\",\"aguacate\",\"pera\",\"manzana\",\"sandia\"]\n",
        "for index in range(5):\n",
        "    print(frutas[index])"
      ],
      "execution_count": 11,
      "outputs": [
        {
          "output_type": "stream",
          "name": "stdout",
          "text": [
            "range(0, 10, 2)\n",
            "Hola0\n",
            "Hola1\n",
            "Hola2\n",
            "Hola3\n",
            "Hola4\n",
            "Hola5\n",
            "Hola6\n",
            "Hola7\n",
            "Hola8\n",
            "Hola9\n",
            "-.-.-.\n",
            "Hola0\n",
            "Hola2\n",
            "Hola4\n",
            "Hola6\n",
            "Hola8\n",
            "-.-.-.\n",
            "Uva\n",
            "aguacate\n",
            "pera\n",
            "manzana\n",
            "sandia\n"
          ]
        }
      ]
    },
    {
      "cell_type": "code",
      "metadata": {
        "colab": {
          "base_uri": "https://localhost:8080/"
        },
        "id": "Jmhh34VALt6t",
        "outputId": "b0e7f3e4-9001-4872-84cb-485ec4620a23"
      },
      "source": [
        "for i in range(5):\n",
        "    print(\"+++++\")"
      ],
      "execution_count": 12,
      "outputs": [
        {
          "output_type": "stream",
          "name": "stdout",
          "text": [
            "+++++\n",
            "+++++\n",
            "+++++\n",
            "+++++\n",
            "+++++\n"
          ]
        }
      ]
    },
    {
      "cell_type": "code",
      "metadata": {
        "id": "uJdcfZdnFzbt"
      },
      "source": [
        ""
      ],
      "execution_count": null,
      "outputs": []
    }
  ]
}