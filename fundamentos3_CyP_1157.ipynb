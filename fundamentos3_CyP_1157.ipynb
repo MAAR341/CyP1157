{
  "nbformat": 4,
  "nbformat_minor": 0,
  "metadata": {
    "colab": {
      "name": "fundamentos3_CyP_1157.ipynb",
      "provenance": [],
      "authorship_tag": "ABX9TyMJTOW8uCMwyru20MexMieV",
      "include_colab_link": true
    },
    "kernelspec": {
      "name": "python3",
      "display_name": "Python 3"
    },
    "language_info": {
      "name": "python"
    }
  },
  "cells": [
    {
      "cell_type": "markdown",
      "metadata": {
        "id": "view-in-github",
        "colab_type": "text"
      },
      "source": [
        "<a href=\"https://colab.research.google.com/github/MAAR341/CyP1157/blob/main/fundamentos3_CyP_1157.ipynb\" target=\"_parent\"><img src=\"https://colab.research.google.com/assets/colab-badge.svg\" alt=\"Open In Colab\"/></a>"
      ]
    },
    {
      "cell_type": "markdown",
      "metadata": {
        "id": "-Uif5G4kNJ50"
      },
      "source": [
        "#30/11/2021"
      ]
    },
    {
      "cell_type": "markdown",
      "metadata": {
        "id": "YktNSLVkFwNg"
      },
      "source": [
        "Repetición:\n",
        "\n",
        "Este tipo de estructura nos permite automatizar la ejecución repetitiva de codigo mientras ciertas condiciones se cumplan, tenemos 3 variantes de esta estructura en todos los lenguajes de programación:\n",
        "- Desde... hasta (estructura for)\n",
        "- haz mientras (estructura while)\n",
        "- haz y luego validaz mientras (estructura Do-while)\n",
        "\n",
        "#FOR con python\n",
        "```\n",
        "for j in range(10):\n",
        "    print(f\"Hola {j}\")\n",
        "```\n",
        "\n",
        "#FOR con Java y/o C\n",
        "```\n",
        "for(int j=0; j<10; j=j+1){\n",
        "    printf(\"Hola %i \\n\", j):\n",
        "```\n",
        "En todos los lenguajes de programación existe un tipo especial de for, conocido como **for-each**\n",
        "\n",
        "#For-each en python\n",
        "```\n",
        "for color in colores:\n",
        "    print(f\"Este es el color {color}\")\n",
        "```"
      ]
    },
    {
      "cell_type": "code",
      "metadata": {
        "colab": {
          "base_uri": "https://localhost:8080/"
        },
        "id": "CvbJOHXGHgww",
        "outputId": "b79e1f97-2a6d-4939-d61f-c89e7bb58c77"
      },
      "source": [
        "# función range()\n",
        "# range(<INICIO>,<STOP>,<INCREMENTO>) \"stop es obligatorio\"\n",
        "x=range(0,10,2)\n",
        "print(x)\n",
        "\n",
        "for j in range(10): #range(0,10)-->0,1,2,3,4,5,6,7,8,9\n",
        "    print(f\"Hola{j}\")\n",
        "print(\"-.-.-.\")\n",
        "for j in range(0,10,2): #range(0,10)-->0,2,4,6,8\n",
        "    print(f\"Hola{j}\")\n",
        "print(\"-.-.-.\")\n",
        "frutas=[\"Uva\",\"aguacate\",\"pera\",\"manzana\",\"sandia\"]\n",
        "for index in range(5):\n",
        "    print(frutas[index])"
      ],
      "execution_count": null,
      "outputs": [
        {
          "output_type": "stream",
          "name": "stdout",
          "text": [
            "range(0, 10, 2)\n",
            "Hola0\n",
            "Hola1\n",
            "Hola2\n",
            "Hola3\n",
            "Hola4\n",
            "Hola5\n",
            "Hola6\n",
            "Hola7\n",
            "Hola8\n",
            "Hola9\n",
            "-.-.-.\n",
            "Hola0\n",
            "Hola2\n",
            "Hola4\n",
            "Hola6\n",
            "Hola8\n",
            "-.-.-.\n",
            "Uva\n",
            "aguacate\n",
            "pera\n",
            "manzana\n",
            "sandia\n"
          ]
        }
      ]
    },
    {
      "cell_type": "code",
      "metadata": {
        "colab": {
          "base_uri": "https://localhost:8080/"
        },
        "id": "Jmhh34VALt6t",
        "outputId": "b0e7f3e4-9001-4872-84cb-485ec4620a23"
      },
      "source": [
        "for i in range(5):\n",
        "    print(\"+++++\")"
      ],
      "execution_count": null,
      "outputs": [
        {
          "output_type": "stream",
          "name": "stdout",
          "text": [
            "+++++\n",
            "+++++\n",
            "+++++\n",
            "+++++\n",
            "+++++\n"
          ]
        }
      ]
    },
    {
      "cell_type": "code",
      "metadata": {
        "id": "uJdcfZdnFzbt"
      },
      "source": [
        ""
      ],
      "execution_count": null,
      "outputs": []
    },
    {
      "cell_type": "code",
      "metadata": {
        "colab": {
          "base_uri": "https://localhost:8080/"
        },
        "id": "ARPCDu57L2BN",
        "outputId": "47d572cb-2de6-45e4-de1f-bd746699d757"
      },
      "source": [
        "for x in range(1,20,1):\n",
        "    print(x)\n",
        "print(\"Fin del programa\")\n",
        "\n",
        "for x in range(19,0,-1):\n",
        "    print(x)\n",
        "print(\"Fin del programa\")"
      ],
      "execution_count": null,
      "outputs": [
        {
          "output_type": "stream",
          "name": "stdout",
          "text": [
            "1\n",
            "2\n",
            "3\n",
            "4\n",
            "5\n",
            "6\n",
            "7\n",
            "8\n",
            "9\n",
            "10\n",
            "11\n",
            "12\n",
            "13\n",
            "14\n",
            "15\n",
            "16\n",
            "17\n",
            "18\n",
            "19\n",
            "Fin del programa\n",
            "19\n",
            "18\n",
            "17\n",
            "16\n",
            "15\n",
            "14\n",
            "13\n",
            "12\n",
            "11\n",
            "10\n",
            "9\n",
            "8\n",
            "7\n",
            "6\n",
            "5\n",
            "4\n",
            "3\n",
            "2\n",
            "1\n",
            "Fin del programa\n"
          ]
        }
      ]
    },
    {
      "cell_type": "code",
      "metadata": {
        "colab": {
          "base_uri": "https://localhost:8080/"
        },
        "id": "gkh01GwkNqpa",
        "outputId": "a596e109-957a-49f2-c280-015cd48774f3"
      },
      "source": [
        "# Ejemplo 3.3\n",
        "CUECER=0\n",
        "NUM=0\n",
        "N=int(input(\"Un valor numerico mayor que 1:\"))\n",
        "for I in range(1,N+1,1):\n",
        "    N=int(input(\"Un valor numerico:\"))\n",
        "    if N==0:\n",
        "        CUECER+=1\n",
        "\n",
        "print(\"CUECER=\", CUECER)"
      ],
      "execution_count": null,
      "outputs": [
        {
          "output_type": "stream",
          "name": "stdout",
          "text": [
            "Un valor numerico mayor que 1:4\n",
            "Un valor numerico:0\n",
            "Un valor numerico:0\n",
            "Un valor numerico:2\n",
            "Un valor numerico:2\n",
            "CUECER= 2\n"
          ]
        }
      ]
    },
    {
      "cell_type": "code",
      "metadata": {
        "colab": {
          "base_uri": "https://localhost:8080/"
        },
        "id": "ZEsmU9QpRSct",
        "outputId": "6fdea85a-4edc-4219-86e4-573d273e236e"
      },
      "source": [
        "for f in range( 1,11): \n",
        "    print(f\"7 x {f} = {7 * f}\")"
      ],
      "execution_count": null,
      "outputs": [
        {
          "output_type": "stream",
          "name": "stdout",
          "text": [
            "7 x 1 = 7\n",
            "7 x 2 = 14\n",
            "7 x 3 = 21\n",
            "7 x 4 = 28\n",
            "7 x 5 = 35\n",
            "7 x 6 = 42\n",
            "7 x 7 = 49\n",
            "7 x 8 = 56\n",
            "7 x 9 = 63\n",
            "7 x 10 = 70\n"
          ]
        }
      ]
    },
    {
      "cell_type": "code",
      "metadata": {
        "colab": {
          "base_uri": "https://localhost:8080/"
        },
        "id": "jE5wgVUKSiC_",
        "outputId": "ae7e18c2-7209-4a62-e264-400f6d42e4f0"
      },
      "source": [
        "N1=int(input(\"Dame un número entre 1 y 5:\"))\n",
        "if N1>=1 and N<=5:\n",
        "    N2=int(input(f\"Dame un número entre {N1} y 10:\"))\n",
        "    if N2>=N1 and N2<=10:\n",
        "        for I in range(N1, N2+1):\n",
        "         for J in range(0,11):\n",
        "            print(f\"{I}x{J}=\", I*J)\n",
        "         print(\"-------\")\n",
        "else:\n",
        "    print(\"Valor fuera de rango\")\n",
        "        \n",
        "    "
      ],
      "execution_count": null,
      "outputs": [
        {
          "output_type": "stream",
          "name": "stdout",
          "text": [
            "Dame un número entre 1 y 5:4\n",
            "Dame un número entre 4 y 10:5\n",
            "4x0= 0\n",
            "4x1= 4\n",
            "4x2= 8\n",
            "4x3= 12\n",
            "4x4= 16\n",
            "4x5= 20\n",
            "4x6= 24\n",
            "4x7= 28\n",
            "4x8= 32\n",
            "4x9= 36\n",
            "4x10= 40\n",
            "-------\n",
            "5x0= 0\n",
            "5x1= 5\n",
            "5x2= 10\n",
            "5x3= 15\n",
            "5x4= 20\n",
            "5x5= 25\n",
            "5x6= 30\n",
            "5x7= 35\n",
            "5x8= 40\n",
            "5x9= 45\n",
            "5x10= 50\n",
            "-------\n"
          ]
        }
      ]
    },
    {
      "cell_type": "code",
      "metadata": {
        "colab": {
          "base_uri": "https://localhost:8080/"
        },
        "id": "dAlY_nefWt60",
        "outputId": "57625efd-c3d5-4b2d-9004-83864d4f55d7"
      },
      "source": [
        "# Generadores en listas\n",
        "numeros=[0,0,0,0,0]\n",
        "print(numeros)\n",
        "numeros=[0 for x in range(5)]\n",
        "print(numeros)\n",
        "# empleando la variable de control x para el valor inicial\n",
        "numeros=[x for x in range(5)]\n",
        "print(numeros)\n",
        "#[10,20,30,40,50,60,70,80,90,100]\n",
        "numeros=[(x+1)*10 for x in range(10)]\n",
        "print(numeros)\n",
        "numeros=[x*10 for x in range(11)]\n",
        "print(numeros)"
      ],
      "execution_count": null,
      "outputs": [
        {
          "output_type": "stream",
          "name": "stdout",
          "text": [
            "[0, 0, 0, 0, 0]\n",
            "[0, 0, 0, 0, 0]\n",
            "[0, 1, 2, 3, 4]\n",
            "[10, 20, 30, 40, 50, 60, 70, 80, 90, 100]\n",
            "[0, 10, 20, 30, 40, 50, 60, 70, 80, 90, 100]\n"
          ]
        }
      ]
    },
    {
      "cell_type": "code",
      "metadata": {
        "colab": {
          "base_uri": "https://localhost:8080/"
        },
        "id": "v0w57ZPDYQz_",
        "outputId": "285a910b-0bf0-47ff-fccf-584f5ff0242b"
      },
      "source": [
        "# Ejercicio calcular promedio de edad\n",
        "edades=[0 for x in range(5)]\n",
        "print(edades)       \n",
        "S=0\n",
        "for x in range(5):\n",
        "    edades[x]=int(input(\"Dame una edad: \"))\n",
        "    S=S+edades[x]\n",
        "print(edades)\n",
        "print(\"promedio: \", S/5)\n",
        "\n"
      ],
      "execution_count": null,
      "outputs": [
        {
          "output_type": "stream",
          "name": "stdout",
          "text": [
            "[0, 0, 0, 0, 0]\n",
            "Dame una edad: 17\n",
            "Dame una edad: 34\n",
            "Dame una edad: 16\n",
            "Dame una edad: 20\n",
            "Dame una edad: 22\n",
            "[17, 34, 16, 20, 22]\n",
            "promedio:  21.8\n"
          ]
        }
      ]
    },
    {
      "cell_type": "code",
      "metadata": {
        "colab": {
          "base_uri": "https://localhost:8080/"
        },
        "id": "WaZRRaJ_cWxn",
        "outputId": "5bc96dd5-d101-4231-b8df-f253798e514f"
      },
      "source": [
        "import random\n",
        "print(random.random())\n",
        "print(random.uniform(5,11))\n",
        "val=round(random.uniform(5,11), 2)\n",
        "print(val)\n",
        "\n",
        "#¿cual es el mayor y cual el menor?, promedio"
      ],
      "execution_count": null,
      "outputs": [
        {
          "output_type": "stream",
          "name": "stdout",
          "text": [
            "0.8833690482025587\n",
            "9.996901300393478\n",
            "10.54\n"
          ]
        }
      ]
    },
    {
      "cell_type": "markdown",
      "metadata": {
        "id": "tmwwGu3a5-3h"
      },
      "source": [
        "# Estructura de control de repetición haz-mientras\n",
        "Una estructura de control haz-mientras nos permite ejecutar repetidamente bloques de programación mientras una condición se cumpla.\n",
        "## Sintaxis\n",
        "```\n",
        "while<condición>\n",
        "    <bloque de sentencias a ejecutar>\n",
        "<bloque de sentencia posterior>\n",
        "```\n",
        "La diferencia principal con while es que no se conoce el número de ciclos a ejecutar, en for si se conoce.\n"
      ]
    },
    {
      "cell_type": "code",
      "metadata": {
        "colab": {
          "base_uri": "https://localhost:8080/"
        },
        "id": "0PA2qrtd70C6",
        "outputId": "125838a3-bfca-481c-c3c9-84e93c684b95"
      },
      "source": [
        "valor=int(input(\"Introduce un valor entero positivo:\"))\n",
        "contador=0\n",
        "if valor>0:\n",
        "    while valor>1.0:\n",
        "        valor=valor/2\n",
        "        print(round(valor, 2))\n",
        "        contador +=1\n",
        "else:\n",
        "    print(\"El número es negativo, intenta de nuevo\")\n",
        "print(\"Total de iteracciones=\",contador)"
      ],
      "execution_count": null,
      "outputs": [
        {
          "output_type": "stream",
          "name": "stdout",
          "text": [
            "Introduce un valor entero positivo:4\n",
            "2.0\n",
            "1.0\n",
            "Total de iteracciones= 2\n"
          ]
        }
      ]
    },
    {
      "cell_type": "code",
      "metadata": {
        "colab": {
          "base_uri": "https://localhost:8080/"
        },
        "id": "IYH8-aP_8txg",
        "outputId": "cb57de7f-ddfb-44db-e250-ceeb4f13f507"
      },
      "source": [
        "valor=int(input(\"Dame un valor entero:\"))\n",
        "\n",
        "while valor!=0:\n",
        "    print(valor)\n",
        "    valor=int(input(\"Dame un valor entero:\"))\n",
        "print(\"Fin del programa\")"
      ],
      "execution_count": null,
      "outputs": [
        {
          "output_type": "stream",
          "name": "stdout",
          "text": [
            "Dame un valor entero:2\n",
            "2\n",
            "Dame un valor entero:0\n",
            "Fin del programa\n"
          ]
        }
      ]
    },
    {
      "cell_type": "code",
      "metadata": {
        "id": "0FwOui2L9VN5"
      },
      "source": [
        "valor=int(input(\"Dame un valor entero:\"))\n",
        "while valor!=0:\n",
        "    print(valor)\n",
        "    print(\"Otras cosas\")\n",
        "print(\"Fin del programa\")"
      ],
      "execution_count": null,
      "outputs": []
    },
    {
      "cell_type": "code",
      "metadata": {
        "colab": {
          "base_uri": "https://localhost:8080/"
        },
        "id": "rMHDDjBC_m86",
        "outputId": "dc9837da-ff30-4919-b0ba-54ac70d00440"
      },
      "source": [
        "n=int(input(\"Ingrese un número entero positivo:\"))\n",
        "if n>0:\n",
        "    print(\"Es correcto\")\n",
        "    for i in range(1, 11):\n",
        "        print(n, \"por\", i, \"es igual a\", n*i)\n",
        "else:\n",
        "    print(\"El número ingresado no es correcto\")"
      ],
      "execution_count": null,
      "outputs": [
        {
          "output_type": "stream",
          "name": "stdout",
          "text": [
            "Ingrese un número entero positivo:3\n",
            "Es correcto\n",
            "3 por 1 es igual a 3\n",
            "3 por 2 es igual a 6\n",
            "3 por 3 es igual a 9\n",
            "3 por 4 es igual a 12\n",
            "3 por 5 es igual a 15\n",
            "3 por 6 es igual a 18\n",
            "3 por 7 es igual a 21\n",
            "3 por 8 es igual a 24\n",
            "3 por 9 es igual a 27\n",
            "3 por 10 es igual a 30\n"
          ]
        }
      ]
    },
    {
      "cell_type": "code",
      "metadata": {
        "colab": {
          "base_uri": "https://localhost:8080/"
        },
        "id": "m303FWNvIbil",
        "outputId": "5e1f1784-a51c-4cec-8214-924a5fac2ca4"
      },
      "source": [
        "comprobar=True\n",
        "while comprobar==True:\n",
        "    n=int(input(\"Ingrese un número entero positivo:\"))\n",
        "    if n>0:\n",
        "        i=1\n",
        "        while i<11:\n",
        "            print(n, \"por\", i, \"es igual a\", n*i)\n",
        "            i+=1\n",
        "            comprobar=False\n",
        "    else:\n",
        "        print(\"El número ingresado no es correcto\")"
      ],
      "execution_count": 13,
      "outputs": [
        {
          "output_type": "stream",
          "name": "stdout",
          "text": [
            "Ingrese un número entero positivo:-8\n",
            "El número ingresado no es correcto\n",
            "Ingrese un número entero positivo:-2\n",
            "El número ingresado no es correcto\n",
            "Ingrese un número entero positivo:2\n",
            "2 por 1 es igual a 2\n",
            "2 por 2 es igual a 4\n",
            "2 por 3 es igual a 6\n",
            "2 por 4 es igual a 8\n",
            "2 por 5 es igual a 10\n",
            "2 por 6 es igual a 12\n",
            "2 por 7 es igual a 14\n",
            "2 por 8 es igual a 16\n",
            "2 por 9 es igual a 18\n",
            "2 por 10 es igual a 20\n"
          ]
        }
      ]
    },
    {
      "cell_type": "code",
      "metadata": {
        "colab": {
          "base_uri": "https://localhost:8080/"
        },
        "id": "Xw3RN_g-KdS4",
        "outputId": "875fd02e-d4e6-4de9-a537-48fcbd42d9c3"
      },
      "source": [
        "n=int(input(\"Ingrese un número entero positivo:\"))\n",
        "if n>0:\n",
        "    resultado=0\n",
        "    for i in range(1,n+1):\n",
        "        resultado+=(1/i)\n",
        "        print(\"El resultado de la serie es:\", resultado)\n",
        "else:\n",
        "    print(\"El número ingresado no es correcto, intente de nuevo\")"
      ],
      "execution_count": 16,
      "outputs": [
        {
          "output_type": "stream",
          "name": "stdout",
          "text": [
            "Ingrese un número entero positivo:-6\n",
            "El número ingresado no es correcto, intente de nuevo\n"
          ]
        }
      ]
    },
    {
      "cell_type": "code",
      "metadata": {
        "colab": {
          "base_uri": "https://localhost:8080/"
        },
        "id": "E1D9RVAQMeEq",
        "outputId": "90e6b0f7-a164-49b5-b151-6ab1df17d6ae"
      },
      "source": [
        "comprobar=True\n",
        "while comprobar==True:\n",
        "    n=int(input(\"Ingrese un número entero positivo:\"))\n",
        "    if n>0:\n",
        "        comprobar=False\n",
        "        resultado=0\n",
        "        for i in range(1,n+1):\n",
        "            resultado+=(1/i)\n",
        "            print(\"El resultado de la serie es:\", resultado)\n",
        "    else:\n",
        "        print(\"El número ingresado no es correcto, intente de nuevo\")"
      ],
      "execution_count": 20,
      "outputs": [
        {
          "output_type": "stream",
          "name": "stdout",
          "text": [
            "Ingrese un número entero positivo:-2\n",
            "El número ingresado no es correcto, intente de nuevo\n",
            "Ingrese un número entero positivo:-5\n",
            "El número ingresado no es correcto, intente de nuevo\n",
            "Ingrese un número entero positivo:4\n",
            "El resultado de la serie es: 1.0\n",
            "El resultado de la serie es: 1.5\n",
            "El resultado de la serie es: 1.8333333333333333\n",
            "El resultado de la serie es: 2.083333333333333\n"
          ]
        }
      ]
    }
  ]
}