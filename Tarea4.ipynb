{
  "nbformat": 4,
  "nbformat_minor": 0,
  "metadata": {
    "colab": {
      "name": "Tarea4.ipynb",
      "provenance": [],
      "authorship_tag": "ABX9TyMJyKFeHQE/qQqGbjCpO4WG",
      "include_colab_link": true
    },
    "kernelspec": {
      "name": "python3",
      "display_name": "Python 3"
    },
    "language_info": {
      "name": "python"
    }
  },
  "cells": [
    {
      "cell_type": "markdown",
      "metadata": {
        "id": "view-in-github",
        "colab_type": "text"
      },
      "source": [
        "<a href=\"https://colab.research.google.com/github/MAAR341/CyP1157/blob/main/Tarea4.ipynb\" target=\"_parent\"><img src=\"https://colab.research.google.com/assets/colab-badge.svg\" alt=\"Open In Colab\"/></a>"
      ]
    },
    {
      "cell_type": "code",
      "metadata": {
        "colab": {
          "base_uri": "https://localhost:8080/"
        },
        "id": "2iR32NRbYPaE",
        "outputId": "45a7bbc6-d2ce-4848-981c-19ab5beca6b9"
      },
      "source": [
        "21/10/2021\n",
        "print(f\"M         M        A        N      N   U       U  EEEEEE  L\\nM M     M M       A A       NN     N   U       U  E       L\\nM  M   M  M      A   A      N N    N   U       U  E       L\\nM   M M   M     A     A     N  N   N   U       U  EEEEE   L\\nM    M    M    AAAAAAAAA    N   N  N   U       U  E       L\\nM         M   A         A   N    N N    U     U   E       L\\nM         M  A           A  N      N     UUUUU    EEEEEE  LLLLLLL\")"
      ],
      "execution_count": 77,
      "outputs": [
        {
          "output_type": "stream",
          "name": "stdout",
          "text": [
            "M         M        A        N      N   U       U  EEEEEE  L\n",
            "M M     M M       A A       NN     N   U       U  E       L\n",
            "M  M   M  M      A   A      N N    N   U       U  E       L\n",
            "M   M M   M     A     A     N  N   N   U       U  EEEEE   L\n",
            "M    M    M    AAAAAAAAA    N   N  N   U       U  E       L\n",
            "M         M   A         A   N    N N    U     U   E       L\n",
            "M         M  A           A  N      N     UUUUU    EEEEEE  LLLLLLL\n"
          ]
        }
      ]
    }
  ]
}