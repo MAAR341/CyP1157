{
  "nbformat": 4,
  "nbformat_minor": 0,
  "metadata": {
    "colab": {
      "name": "FundamentosCyP1157.ipynb",
      "provenance": [],
      "authorship_tag": "ABX9TyMGVNkpNwUhnSWEoZZ+bmaH",
      "include_colab_link": true
    },
    "kernelspec": {
      "name": "python3",
      "display_name": "Python 3"
    },
    "language_info": {
      "name": "python"
    }
  },
  "cells": [
    {
      "cell_type": "markdown",
      "metadata": {
        "id": "view-in-github",
        "colab_type": "text"
      },
      "source": [
        "<a href=\"https://colab.research.google.com/github/MAAR341/CyP1157/blob/main/FundamentosCyP1157.ipynb\" target=\"_parent\"><img src=\"https://colab.research.google.com/assets/colab-badge.svg\" alt=\"Open In Colab\"/></a>"
      ]
    },
    {
      "cell_type": "markdown",
      "metadata": {
        "id": "HgnI47RU221Q"
      },
      "source": [
        "14 de octubre de 2021\n"
      ]
    },
    {
      "cell_type": "code",
      "metadata": {
        "colab": {
          "base_uri": "https://localhost:8080/"
        },
        "id": "CdC_hKcNVkZj",
        "outputId": "320e0f55-935e-4e52-a721-28992dd342a8"
      },
      "source": [
        "nombre = \"Jose\" # Tipo de dato String (cadena de caracteres)\n",
        "\n",
        "print ( nombre )"
      ],
      "execution_count": null,
      "outputs": [
        {
          "output_type": "stream",
          "name": "stdout",
          "text": [
            "Jose\n"
          ]
        }
      ]
    },
    {
      "cell_type": "markdown",
      "metadata": {
        "id": "p_CBNj1oXKxe"
      },
      "source": [
        "# Tipos de dato en Python\n",
        "\n",
        "- str --> String cadena de caracteres.\n",
        "- int --> Números enteros\n",
        "- float --> Números con notación de punto flotante\n",
        "- complex --> números complejos\n",
        "- bool --> Booleano (True or False)\n",
        "- byte --> 8 bits\n",
        "\n",
        "### Tipos de datos estructurados (compuestos)\n",
        "\n",
        "- list --> Listas (Arreglos en otro lenguaje)\n",
        "- tuple --> listas no mutables\n",
        "- dict --> Diccionarios\n",
        "- set y frozenset --> Conjuntos \n"
      ]
    },
    {
      "cell_type": "code",
      "metadata": {
        "colab": {
          "base_uri": "https://localhost:8080/"
        },
        "id": "vcsCgVKcaSjC",
        "outputId": "16c02e30-5380-4068-c6ac-e41973517e82"
      },
      "source": [
        "import sys\n",
        "edad = 19 \n",
        "print (\"Tu edad es\" ,edad) # al final de una línea de código\n",
        "# este es un comentario de linea simple\n",
        "\n",
        "\"\"\"\n",
        "comentario de multiple línea\n",
        "En lenguaje C, C++ y Java el comentario de multiple línea es con \n",
        "\n",
        "/*........*/\n",
        "\n",
        "En lenguaje C, C++ y Java el comentario de una sola línea es \n",
        "\n",
        "//\n",
        "\n",
        "Aquí puedes explicar en prosa el segmento de un código para futura referencÍa\n",
        "\"\"\"\n",
        "\n",
        "# Tipo de dato numerico int y float \n",
        "\n",
        "print (sys.getsizeof (edad))\n",
        "# el tipo de dato int utiliza diferente cantidad de bits segun el lenguaje de programación.\n",
        "edad = edad + 1\n",
        "\n",
        "print (edad)\n",
        "\n",
        "estatura = 1.56\n",
        "print (estatura)\n",
        "print (sys.getsizeof (estatura))\n",
        "estatura = estatura + 0.1\n",
        "print ( round(estatura, 2) )\n",
        "\n",
        "edad += 1 # edad = edad + 1\n",
        "print (\"Tu edad es\" ,edad) \n",
        "\n",
        "edad -= 1\n",
        "print (\"Tu edad es\" ,edad)\n",
        "\n",
        "edad += 1 # edad = edad + 1\n",
        "edad /= 2 \n",
        "print (\"La mitad de tu edad es\" ,edad)\n",
        "\n",
        "edad = 21\n",
        "# volver a calcular la mitad de la edad pero solo dejar la parte entera\n",
        "edad = edad // 2\n",
        "print (\"La mitad de tu edad es\" ,edad)\n",
        "\n",
        "número = edad / 2.0\n",
        "print (número)\n",
        "\n",
        "número = número * 3\n",
        "print (número)\n",
        "\n",
        "número = 5.0\n",
        "número = número ** 2 #no tiene simplificación en otros lenguajes (número **= 2)\n",
        "print (número)\n",
        "\n"
      ],
      "execution_count": null,
      "outputs": [
        {
          "output_type": "stream",
          "name": "stdout",
          "text": [
            "Tu edad es 19\n",
            "28\n",
            "20\n",
            "1.56\n",
            "24\n",
            "1.66\n",
            "Tu edad es 21\n",
            "Tu edad es 20\n",
            "La mitad de tu edad es 10.5\n",
            "La mitad de tu edad es 10\n",
            "5.0\n",
            "15.0\n",
            "25.0\n"
          ]
        }
      ]
    },
    {
      "cell_type": "code",
      "metadata": {
        "colab": {
          "base_uri": "https://localhost:8080/"
        },
        "id": "QeO9LBAzlwAV",
        "outputId": "d6218f54-cee8-484c-b3a6-b98bc0b1b793"
      },
      "source": [
        "#operador modulo\n",
        "número = 21\n",
        "print ( número / 2 )\n",
        "print ( número // 2 )\n",
        "\n",
        "#el operador modulo da como resultado el residuo de una división\n",
        "print (número % 2)\n",
        "\n",
        "número = 24\n",
        "print (\"Residuo de 24 entre 5 es:\" ,número % 5)\n",
        "\n",
        "#operadores relacionales (logicos)\n",
        "print (número % 2 == 0)\n",
        "\n",
        "#diferencia\n",
        "print (\"24 es diferente de 23:\" ,número != 23)\n",
        "\n",
        "print (\"24 es mayor que 23:\" ,número > 23)\n",
        "\n",
        "print (\"24 es menor que 23:\" ,número < 23)\n",
        "\n",
        "print (\"24 es mayor o igual que 24:\" ,número >= 24)\n",
        "\n",
        "print (\"24 es menor o igual que 23:\" ,número <= 23)"
      ],
      "execution_count": null,
      "outputs": [
        {
          "output_type": "stream",
          "name": "stdout",
          "text": [
            "10.5\n",
            "10\n",
            "1\n",
            "Residuo de 24 entre 5 es: 4\n",
            "True\n",
            "24 es diferente de 23: True\n",
            "24 es mayor que 23: True\n",
            "24 es menor que 23: False\n",
            "24 es mayor o igual que 24: True\n",
            "24 es menor o igual que 23: False\n"
          ]
        }
      ]
    },
    {
      "cell_type": "code",
      "metadata": {
        "colab": {
          "base_uri": "https://localhost:8080/"
        },
        "id": "4X8N4lR42sjC",
        "outputId": "67d80e77-c94f-4586-eb3e-ad2b29fd936d"
      },
      "source": [
        "#primero hay que ver como se define una variable str\n",
        "\n",
        "nombre = \"Jose\"\n",
        "carrera = \"Ingeniería en computación\"\n",
        "frase = \"\"\"El conocimiento\n",
        "me persigue,....\n",
        "pero\n",
        "yo soy más rapido\"\"\"\n",
        "print ( nombre )\n",
        "print ( carrera )\n",
        "print ( frase )\n",
        "\n",
        "# type muestra el tipo de dato de una variable\n",
        "print ( type(nombre))\n",
        "\n",
        "paterno = str (\"Perez\")\n",
        "print (paterno)\n"
      ],
      "execution_count": null,
      "outputs": [
        {
          "output_type": "stream",
          "name": "stdout",
          "text": [
            "Jose\n",
            "Ingeniería en computación\n",
            "El conocimiento\n",
            "me persigue,....\n",
            "pero\n",
            "yo soy más rapido\n",
            "<class 'str'>\n",
            "Perez\n"
          ]
        }
      ]
    },
    {
      "cell_type": "markdown",
      "metadata": {
        "id": "Re2g3dzypHoz"
      },
      "source": [
        "Una clase (class) es un tipo de dato compuesto."
      ]
    },
    {
      "cell_type": "code",
      "metadata": {
        "id": "V-qRkaFLpQZf"
      },
      "source": [
        "carrera = \"Ingeniería en computación\"\n",
        "print ( carrera )\n",
        "print ( carrera [2] )\n"
      ],
      "execution_count": null,
      "outputs": []
    },
    {
      "cell_type": "markdown",
      "metadata": {
        "id": "8jZuyy34rmC7"
      },
      "source": [
        "# A la sintaxis escrita para elegir un elemento de un grupo de datos se le llama selector\n",
        "en el caso de Strings y listas (lst) se usan los caracteres [\"y\"]\n",
        "\n",
        "1. En todos los lenguajes todos los arreglos empiezan en 0\n",
        "2. en python no existen como tal el tipo de dato arreglo, el concepto es sustituido por las listas.\n",
        "3. Los strings se comportan como un arreglo en la mayoria de lenguajes.\n",
        "4. En python se acepta el indexado negativo, en otros lenguajes NO."
      ]
    },
    {
      "cell_type": "code",
      "metadata": {
        "colab": {
          "base_uri": "https://localhost:8080/"
        },
        "id": "qUpZTl_9sqo_",
        "outputId": "bf2543ea-0bd9-4e4c-a726-0582ae8fc962"
      },
      "source": [
        "carrera = \"Ingeniería en computación\"\n",
        "print ( carrera [8] )\n",
        "print ( carrera[24] )\n",
        "print ( carrera[-1] )\n",
        "print ( carrera[-25] )\n",
        "\n",
        "\n",
        "#Adelantando el tema ciclo FOR\n",
        "for letra in carrera:\n",
        "  print ( \"-->\", letra ,\"<--\")\n",
        "  "
      ],
      "execution_count": 5,
      "outputs": [
        {
          "output_type": "stream",
          "name": "stdout",
          "text": [
            "í\n",
            "n\n",
            "n\n",
            "I\n",
            "--> I <--\n",
            "--> n <--\n",
            "--> g <--\n",
            "--> e <--\n",
            "--> n <--\n",
            "--> i <--\n",
            "--> e <--\n",
            "--> r <--\n",
            "--> í <--\n",
            "--> a <--\n",
            "-->   <--\n",
            "--> e <--\n",
            "--> n <--\n",
            "-->   <--\n",
            "--> c <--\n",
            "--> o <--\n",
            "--> m <--\n",
            "--> p <--\n",
            "--> u <--\n",
            "--> t <--\n",
            "--> a <--\n",
            "--> c <--\n",
            "--> i <--\n",
            "--> ó <--\n",
            "--> n <--\n"
          ]
        }
      ]
    },
    {
      "cell_type": "markdown",
      "metadata": {
        "id": "mwpFsDHUu6rm"
      },
      "source": [
        "#Slicing (rebanado) de cadenas\n",
        "Permite seleccionar subcadenas con el operador \n",
        "### [ inicio : stop : incremento ]\n",
        "El stop no se incluye, por ello se debe agregar una posición extra.\n",
        "### Slicing y valores por defecto\n",
        "inicio por defecto sera 0\n",
        "stop: tamaño del arreglo (indexado positivo)\n",
        "0 (en un indexado negativo)\n",
        "incremento 1 (indexado positivo)\n"
      ]
    },
    {
      "cell_type": "code",
      "metadata": {
        "colab": {
          "base_uri": "https://localhost:8080/"
        },
        "id": "Y4RoJ0-rvX3r",
        "outputId": "b973e49c-4eeb-4917-b86b-af32bf86781f"
      },
      "source": [
        "carrera = \"Ingeniería en computación\"\n",
        "print ( carrera[0:10:1] )\n",
        "print ( carrera[14:25:1] )\n",
        "#lo mismo pero en indexado negativo ??\n",
        "print ( carrera[-11:-1:1] )\n",
        "print ( carrera[:10:] )\n",
        "print ( carrera[14:25:] )\n",
        "print ( carrera[-11: :1] )\n",
        "#solución previa\n",
        "print (\"-------\")\n",
        "print ( carrera[-11:-1:1] )\n",
        "print ( carrera[-11: :1] )\n",
        "\n",
        "#un ejercicio mas para ver el inccremento\n",
        "print ( carrera[0:10:2] )\n",
        "print ( carrera[-1:-12:-2] )\n",
        "print ( carrera[25:13:-1] )\n"
      ],
      "execution_count": 15,
      "outputs": [
        {
          "output_type": "stream",
          "name": "stdout",
          "text": [
            "Ingeniería\n",
            "computación\n",
            "computació\n",
            "Ingeniería\n",
            "computación\n",
            "computación\n",
            "-------\n",
            "computació\n",
            "computación\n",
            "Igneí\n",
            "niaumc\n",
            "nóicatupmoc\n"
          ]
        }
      ]
    },
    {
      "cell_type": "markdown",
      "metadata": {
        "id": "2MJD1cMf0iHe"
      },
      "source": [
        "# String y sus metodos\n",
        "# Todos los tipos de dato en python son objetos (CLASES de la POO)\n",
        "### Lo cual significa que tiene atributos y metodos\n",
        "## dir () y help () funciones para ayuda del lenguaje python\n",
        "## dir muestra las funciones de un tipo de dato como resumen\n",
        "## help muestra a detalle\n",
        "Metodo que inician con doble guion bajo son privados de uso interno y no deberiamos usarlos.\n",
        "Todos los demas son para uso externo (usuario).\n"
      ]
    },
    {
      "cell_type": "code",
      "metadata": {
        "colab": {
          "base_uri": "https://localhost:8080/"
        },
        "id": "fdkIrx2H096G",
        "outputId": "0f7a250d-5ef7-49d1-c178-6d23629bffa7"
      },
      "source": [
        "frutas= \"  limon , fresa , manzana , aguacate  \"  \n",
        "nombre= \"jose\"\n",
        "print ( frutas )\n",
        "dir ( frutas )\n",
        "\n",
        "print ( nombre.capitalize() )\n",
        "print ( nombre.upper() )\n",
        "print ( frutas.replace( \"a\" , \"4\" ).replace(\"e\",\"3\").upper() )\n",
        "frutas=  frutas.replace( \"a\" , \"4\" ).replace(\"e\",\"3\").upper()\n",
        "print (frutas)\n",
        "print (\"-------------\")\n",
        "frutas= \"  limon , fresa , manzana , aguacate  \"  \n",
        "print ( frutas.strip() )\n",
        "print (frutas.split(\",\"))\n",
        "print(frutas.index(\"n\"))\n",
        "dir (str)"
      ],
      "execution_count": 47,
      "outputs": [
        {
          "output_type": "stream",
          "name": "stdout",
          "text": [
            "  limon , fresa , manzana , aguacate  \n",
            "Jose\n",
            "JOSE\n",
            "  LIMON , FR3S4 , M4NZ4N4 , 4GU4C4T3  \n",
            "  LIMON , FR3S4 , M4NZ4N4 , 4GU4C4T3  \n",
            "-------------\n",
            "limon , fresa , manzana , aguacate\n",
            "['  limon ', ' fresa ', ' manzana ', ' aguacate  ']\n",
            "6\n"
          ]
        },
        {
          "output_type": "execute_result",
          "data": {
            "text/plain": [
              "['__add__',\n",
              " '__class__',\n",
              " '__contains__',\n",
              " '__delattr__',\n",
              " '__dir__',\n",
              " '__doc__',\n",
              " '__eq__',\n",
              " '__format__',\n",
              " '__ge__',\n",
              " '__getattribute__',\n",
              " '__getitem__',\n",
              " '__getnewargs__',\n",
              " '__gt__',\n",
              " '__hash__',\n",
              " '__init__',\n",
              " '__init_subclass__',\n",
              " '__iter__',\n",
              " '__le__',\n",
              " '__len__',\n",
              " '__lt__',\n",
              " '__mod__',\n",
              " '__mul__',\n",
              " '__ne__',\n",
              " '__new__',\n",
              " '__reduce__',\n",
              " '__reduce_ex__',\n",
              " '__repr__',\n",
              " '__rmod__',\n",
              " '__rmul__',\n",
              " '__setattr__',\n",
              " '__sizeof__',\n",
              " '__str__',\n",
              " '__subclasshook__',\n",
              " 'capitalize',\n",
              " 'casefold',\n",
              " 'center',\n",
              " 'count',\n",
              " 'encode',\n",
              " 'endswith',\n",
              " 'expandtabs',\n",
              " 'find',\n",
              " 'format',\n",
              " 'format_map',\n",
              " 'index',\n",
              " 'isalnum',\n",
              " 'isalpha',\n",
              " 'isascii',\n",
              " 'isdecimal',\n",
              " 'isdigit',\n",
              " 'isidentifier',\n",
              " 'islower',\n",
              " 'isnumeric',\n",
              " 'isprintable',\n",
              " 'isspace',\n",
              " 'istitle',\n",
              " 'isupper',\n",
              " 'join',\n",
              " 'ljust',\n",
              " 'lower',\n",
              " 'lstrip',\n",
              " 'maketrans',\n",
              " 'partition',\n",
              " 'replace',\n",
              " 'rfind',\n",
              " 'rindex',\n",
              " 'rjust',\n",
              " 'rpartition',\n",
              " 'rsplit',\n",
              " 'rstrip',\n",
              " 'split',\n",
              " 'splitlines',\n",
              " 'startswith',\n",
              " 'strip',\n",
              " 'swapcase',\n",
              " 'title',\n",
              " 'translate',\n",
              " 'upper',\n",
              " 'zfill']"
            ]
          },
          "metadata": {},
          "execution_count": 47
        }
      ]
    },
    {
      "cell_type": "markdown",
      "metadata": {
        "id": "p8xJxOJy8aZV"
      },
      "source": [
        "# String y caracteres de escape\n",
        "- \\\" -->\"\n",
        "- \\' -->\"\n",
        "- \\n --> Salto de linea (tecla enter)\n",
        "- \\t --> Tabulador de espacios a la izquierda\n",
        "- \\uxxx --> Caracteres unicode\n",
        "- \\Uxxxxxxx --> unicode extendido"
      ]
    },
    {
      "cell_type": "code",
      "metadata": {
        "colab": {
          "base_uri": "https://localhost:8080/"
        },
        "id": "mZ53GkKh80KZ",
        "outputId": "e66b9b1d-0303-4f55-aa79-5377a8a9d869"
      },
      "source": [
        "print (\" \\\"jose\\\" \")\n",
        "nombre= \" \\\"jose\\\" \"\n",
        "print (nombre) \n",
        "carrera = \"Ingeniería \\n\\ten \\n\\t\\tComputación\"\n",
        "print (carrera)"
      ],
      "execution_count": 53,
      "outputs": [
        {
          "output_type": "stream",
          "name": "stdout",
          "text": [
            " \"jose\" \n",
            " \"jose\" \n",
            "Ingeniería \n",
            "\ten \n",
            "\t\tComputación\n"
          ]
        }
      ]
    }
  ]
}