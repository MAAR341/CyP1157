{
  "nbformat": 4,
  "nbformat_minor": 0,
  "metadata": {
    "colab": {
      "name": "FundamentosCyP1157.ipynb",
      "provenance": [],
      "authorship_tag": "ABX9TyPsdUFAQVJFGIPIVX/IWxMY",
      "include_colab_link": true
    },
    "kernelspec": {
      "name": "python3",
      "display_name": "Python 3"
    },
    "language_info": {
      "name": "python"
    }
  },
  "cells": [
    {
      "cell_type": "markdown",
      "metadata": {
        "id": "view-in-github",
        "colab_type": "text"
      },
      "source": [
        "<a href=\"https://colab.research.google.com/github/MAAR341/CyP1157/blob/main/FundamentosCyP1157.ipynb\" target=\"_parent\"><img src=\"https://colab.research.google.com/assets/colab-badge.svg\" alt=\"Open In Colab\"/></a>"
      ]
    },
    {
      "cell_type": "markdown",
      "metadata": {
        "id": "HgnI47RU221Q"
      },
      "source": [
        "12 de octubre de 2021\n"
      ]
    },
    {
      "cell_type": "code",
      "metadata": {
        "colab": {
          "base_uri": "https://localhost:8080/"
        },
        "id": "CdC_hKcNVkZj",
        "outputId": "320e0f55-935e-4e52-a721-28992dd342a8"
      },
      "source": [
        "nombre = \"Jose\" # Tipo de dato String (cadena de caracteres)\n",
        "\n",
        "print ( nombre )"
      ],
      "execution_count": null,
      "outputs": [
        {
          "output_type": "stream",
          "name": "stdout",
          "text": [
            "Jose\n"
          ]
        }
      ]
    },
    {
      "cell_type": "markdown",
      "metadata": {
        "id": "p_CBNj1oXKxe"
      },
      "source": [
        "# Tipos de dato en Python\n",
        "\n",
        "- str --> String cadena de caracteres.\n",
        "- int --> Números enteros\n",
        "- float --> Números con notación de punto flotante\n",
        "- complex --> números complejos\n",
        "- bool --> Booleano (True or False)\n",
        "- byte --> 8 bits\n",
        "\n",
        "### Tipos de datos estructurados (compuestos)\n",
        "\n",
        "- list --> Listas (Arreglos en otro lenguaje)\n",
        "- tuple --> listas no mutables\n",
        "- dict --> Diccionarios\n",
        "- set y frozenset --> Conjuntos \n"
      ]
    },
    {
      "cell_type": "code",
      "metadata": {
        "colab": {
          "base_uri": "https://localhost:8080/"
        },
        "id": "vcsCgVKcaSjC",
        "outputId": "16c02e30-5380-4068-c6ac-e41973517e82"
      },
      "source": [
        "import sys\n",
        "edad = 19 \n",
        "print (\"Tu edad es\" ,edad) # al final de una línea de código\n",
        "# este es un comentario de linea simple\n",
        "\n",
        "\"\"\"\n",
        "comentario de multiple línea\n",
        "En lenguaje C, C++ y Java el comentario de multiple línea es con \n",
        "\n",
        "/*........*/\n",
        "\n",
        "En lenguaje C, C++ y Java el comentario de una sola línea es \n",
        "\n",
        "//\n",
        "\n",
        "Aquí puedes explicar en prosa el segmento de un código para futura referencÍa\n",
        "\"\"\"\n",
        "\n",
        "# Tipo de dato numerico int y float \n",
        "\n",
        "print (sys.getsizeof (edad))\n",
        "# el tipo de dato int utiliza diferente cantidad de bits segun el lenguaje de programación.\n",
        "edad = edad + 1\n",
        "\n",
        "print (edad)\n",
        "\n",
        "estatura = 1.56\n",
        "print (estatura)\n",
        "print (sys.getsizeof (estatura))\n",
        "estatura = estatura + 0.1\n",
        "print ( round(estatura, 2) )\n",
        "\n",
        "edad += 1 # edad = edad + 1\n",
        "print (\"Tu edad es\" ,edad) \n",
        "\n",
        "edad -= 1\n",
        "print (\"Tu edad es\" ,edad)\n",
        "\n",
        "edad += 1 # edad = edad + 1\n",
        "edad /= 2 \n",
        "print (\"La mitad de tu edad es\" ,edad)\n",
        "\n",
        "edad = 21\n",
        "# volver a calcular la mitad de la edad pero solo dejar la parte entera\n",
        "edad = edad // 2\n",
        "print (\"La mitad de tu edad es\" ,edad)\n",
        "\n",
        "número = edad / 2.0\n",
        "print (número)\n",
        "\n",
        "número = número * 3\n",
        "print (número)\n",
        "\n",
        "número = 5.0\n",
        "número = número ** 2 #no tiene simplificación en otros lenguajes (número **= 2)\n",
        "print (número)\n",
        "\n"
      ],
      "execution_count": null,
      "outputs": [
        {
          "output_type": "stream",
          "name": "stdout",
          "text": [
            "Tu edad es 19\n",
            "28\n",
            "20\n",
            "1.56\n",
            "24\n",
            "1.66\n",
            "Tu edad es 21\n",
            "Tu edad es 20\n",
            "La mitad de tu edad es 10.5\n",
            "La mitad de tu edad es 10\n",
            "5.0\n",
            "15.0\n",
            "25.0\n"
          ]
        }
      ]
    },
    {
      "cell_type": "code",
      "metadata": {
        "colab": {
          "base_uri": "https://localhost:8080/"
        },
        "id": "QeO9LBAzlwAV",
        "outputId": "d6218f54-cee8-484c-b3a6-b98bc0b1b793"
      },
      "source": [
        "#operador modulo\n",
        "número = 21\n",
        "print ( número / 2 )\n",
        "print ( número // 2 )\n",
        "\n",
        "#el operador modulo da como resultado el residuo de una división\n",
        "print (número % 2)\n",
        "\n",
        "número = 24\n",
        "print (\"Residuo de 24 entre 5 es:\" ,número % 5)\n",
        "\n",
        "#operadores relacionales (logicos)\n",
        "print (número % 2 == 0)\n",
        "\n",
        "#diferencia\n",
        "print (\"24 es diferente de 23:\" ,número != 23)\n",
        "\n",
        "print (\"24 es mayor que 23:\" ,número > 23)\n",
        "\n",
        "print (\"24 es menor que 23:\" ,número < 23)\n",
        "\n",
        "print (\"24 es mayor o igual que 24:\" ,número >= 24)\n",
        "\n",
        "print (\"24 es menor o igual que 23:\" ,número <= 23)"
      ],
      "execution_count": 36,
      "outputs": [
        {
          "output_type": "stream",
          "name": "stdout",
          "text": [
            "10.5\n",
            "10\n",
            "1\n",
            "Residuo de 24 entre 5 es: 4\n",
            "True\n",
            "24 es diferente de 23: True\n",
            "24 es mayor que 23: True\n",
            "24 es menor que 23: False\n",
            "24 es mayor o igual que 24: True\n",
            "24 es menor o igual que 23: False\n"
          ]
        }
      ]
    },
    {
      "cell_type": "code",
      "metadata": {
        "colab": {
          "base_uri": "https://localhost:8080/"
        },
        "id": "4X8N4lR42sjC",
        "outputId": "67d80e77-c94f-4586-eb3e-ad2b29fd936d"
      },
      "source": [
        "#primero hay que ver como se define una variable str\n",
        "\n",
        "nombre = \"Jose\"\n",
        "carrera = \"Ingeniería en computación\"\n",
        "frase = \"\"\"El conocimiento\n",
        "me persigue,....\n",
        "pero\n",
        "yo soy más rapido\"\"\"\n",
        "print ( nombre )\n",
        "print ( carrera )\n",
        "print ( frase )\n",
        "\n",
        "# type muestra el tipo de dato de una variable\n",
        "print ( type(nombre))\n",
        "\n",
        "paterno = str (\"Perez\")\n",
        "print (paterno)\n"
      ],
      "execution_count": 35,
      "outputs": [
        {
          "output_type": "stream",
          "name": "stdout",
          "text": [
            "Jose\n",
            "Ingeniería en computación\n",
            "El conocimiento\n",
            "me persigue,....\n",
            "pero\n",
            "yo soy más rapido\n",
            "<class 'str'>\n",
            "Perez\n"
          ]
        }
      ]
    }
  ]
}