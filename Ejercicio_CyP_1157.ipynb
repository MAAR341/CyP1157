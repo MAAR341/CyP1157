{
  "nbformat": 4,
  "nbformat_minor": 0,
  "metadata": {
    "colab": {
      "name": "Ejercicio_CyP_1157.ipynb",
      "provenance": [],
      "authorship_tag": "ABX9TyPxGBJ1E9azj3F+0DS2e1d+",
      "include_colab_link": true
    },
    "kernelspec": {
      "name": "python3",
      "display_name": "Python 3"
    },
    "language_info": {
      "name": "python"
    }
  },
  "cells": [
    {
      "cell_type": "markdown",
      "metadata": {
        "id": "view-in-github",
        "colab_type": "text"
      },
      "source": [
        "<a href=\"https://colab.research.google.com/github/MAAR341/CyP1157/blob/main/Ejercicio_CyP_1157.ipynb\" target=\"_parent\"><img src=\"https://colab.research.google.com/assets/colab-badge.svg\" alt=\"Open In Colab\"/></a>"
      ]
    },
    {
      "cell_type": "code",
      "metadata": {
        "colab": {
          "base_uri": "https://localhost:8080/"
        },
        "id": "ZxNNOCeKMB0D",
        "outputId": "dc03429e-3ab6-46d9-bbd6-7bf27f8c9352"
      },
      "source": [
        "A=int(input(\"Introduce un número entero:\"))\n",
        "B=int(input(\"Introduce otro número entero:\"))\n",
        "C=int(input(\"Introduce otro número entero:\"))\n",
        "if A>B:\n",
        "    if A>C:\n",
        "        if B>C:\n",
        "            print(f\"El orden es:{A},{B} y {C}\")\n",
        "        else:\n",
        "            print(f\"El orden es:{A},{C} y {B}\")\n",
        "    else:\n",
        "        print(f\"El orden es:{C},{A} y {B}\")\n",
        "else:\n",
        "    if B>C:\n",
        "        if A>C:\n",
        "            print(f\"El orden es:{B},{A} y {C}\")\n",
        "        else:\n",
        "            print(f\"El orden es:{B},{C} y {A}\")\n",
        "    else:\n",
        "        print(f\"El orden es:{C},{B} y {A}\")\n",
        "print(\"Fin del programa\")"
      ],
      "execution_count": 1,
      "outputs": [
        {
          "output_type": "stream",
          "name": "stdout",
          "text": [
            "Introduce un número entero:3\n",
            "Introduce otro número entero:1\n",
            "Introduce otro número entero:2\n",
            "El orden es:3,2 y 1\n",
            "Fin del programa\n"
          ]
        }
      ]
    }
  ]
}